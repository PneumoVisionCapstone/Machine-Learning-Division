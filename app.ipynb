{
 "cells": [
  {
   "cell_type": "code",
   "execution_count": 41,
   "metadata": {},
   "outputs": [],
   "source": [
    "import tensorflow as tf\n",
    "from PIL import Image\n",
    "import numpy as np"
   ]
  },
  {
   "cell_type": "markdown",
   "metadata": {},
   "source": [
    "### label: 0 for normal and 1 for pneumonia"
   ]
  },
  {
   "cell_type": "code",
   "execution_count": 42,
   "metadata": {},
   "outputs": [
    {
     "name": "stderr",
     "output_type": "stream",
     "text": [
      "WARNING:absl:Compiled the loaded model, but the compiled metrics have yet to be built. `model.compile_metrics` will be empty until you train or evaluate the model.\n"
     ]
    }
   ],
   "source": [
    "# Load the model\n",
    "model_path = 'model_capstone.h5'\n",
    "model = tf.keras.models.load_model(model_path)"
   ]
  },
  {
   "cell_type": "code",
   "execution_count": 48,
   "metadata": {},
   "outputs": [],
   "source": [
    "def preprocess_image(image_path, target_size):\n",
    "    # Load the image\n",
    "    img = Image.open(image_path).convert('RGB')  # Ensure image has 3 color channels\n",
    "    \n",
    "    # Resize the image\n",
    "    img = img.resize(target_size)\n",
    "    \n",
    "    # Convert the image to a numpy array\n",
    "    img_array = np.array(img)\n",
    "    \n",
    "    # Normalize the image\n",
    "    img_array = img_array / 255.0\n",
    "    \n",
    "    # Add an extra dimension to the array (since the model expects a batch of images)\n",
    "    img_array = np.expand_dims(img_array, axis=0)\n",
    "    \n",
    "    return img_array"
   ]
  },
  {
   "cell_type": "code",
   "execution_count": 55,
   "metadata": {},
   "outputs": [],
   "source": [
    "def predict_image(model, processed_image):\n",
    "    # Predict the class of the image\n",
    "    predictions = model.predict(processed_image)\n",
    "    \n",
    "    # Get the index of the highest probability class\n",
    "    # predicted_class = np.argmax(predictions, axis=1)\n",
    "    \n",
    "    # return predicted_class\n",
    "    return predictions"
   ]
  },
  {
   "cell_type": "code",
   "execution_count": 58,
   "metadata": {},
   "outputs": [
    {
     "name": "stdout",
     "output_type": "stream",
     "text": [
      "\u001b[1m1/1\u001b[0m \u001b[32m━━━━━━━━━━━━━━━━━━━━\u001b[0m\u001b[37m\u001b[0m \u001b[1m0s\u001b[0m 31ms/step\n",
      "Predicted class: [[0.5020594]]\n"
     ]
    }
   ],
   "source": [
    "image_path = 'pediatric-pneumonia-chest-xray/Pediatric-Chest-X-ray-Pneumonia/test/NORMAL/IM-0011-0001-0002.jpeg'  # Update this path\n",
    "\n",
    "target_size = (150,150)  # Replace with the input size your model expects\n",
    "\n",
    "# Preprocess the image\n",
    "processed_image = preprocess_image(image_path, target_size)\n",
    "\n",
    "# Predict the class\n",
    "predicted_class = predict_image(model, processed_image)\n",
    "\n",
    "print(f'Predicted class: {predicted_class}')"
   ]
  },
  {
   "cell_type": "code",
   "execution_count": null,
   "metadata": {},
   "outputs": [],
   "source": []
  }
 ],
 "metadata": {
  "kernelspec": {
   "display_name": "Python 3",
   "language": "python",
   "name": "python3"
  },
  "language_info": {
   "codemirror_mode": {
    "name": "ipython",
    "version": 3
   },
   "file_extension": ".py",
   "mimetype": "text/x-python",
   "name": "python",
   "nbconvert_exporter": "python",
   "pygments_lexer": "ipython3",
   "version": "3.12.2"
  }
 },
 "nbformat": 4,
 "nbformat_minor": 2
}
